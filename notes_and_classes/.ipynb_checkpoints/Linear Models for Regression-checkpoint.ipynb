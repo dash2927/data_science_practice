{
 "cells": [
  {
   "cell_type": "code",
   "execution_count": 2,
   "metadata": {},
   "outputs": [],
   "source": [
    "import numpy\n",
    "import sklearn\n",
    "from sklearn import datasets, linear_model\n",
    "from sklearn.metrics import mean_squared_error, r2_score"
   ]
  },
  {
   "cell_type": "markdown",
   "metadata": {},
   "source": [
    "# Linear Models for Regression"
   ]
  },
  {
   "cell_type": "markdown",
   "metadata": {},
   "source": [
    "### Linear Regression Models and Least Squares"
   ]
  },
  {
   "cell_type": "markdown",
   "metadata": {},
   "source": [
    "For input vector $X^T = (X_1, X_2, ... , X_p)$, we want to predict a real-value input, $Y$"
   ]
  },
  {
   "cell_type": "markdown",
   "metadata": {},
   "source": [
    "Linear regression model has the form of:\n",
    "\n",
    "\\begin{equation}\n",
    "\\tag{1}\n",
    "f(X) = \\beta_0 + \\sum\\limits_{j=1}^{p} X_j\\beta_j \n",
    "\\end{equation}\n",
    "\n",
    "where $\\beta_j$'s are unknown parameters and $X_j$ are imputs which can come from the following sources:\n",
    "\n",
    "* quantitative inputs\n",
    "* transformations of quantitative inputs\n",
    "* basis expansions ($X_2 = X_1^2, X_3 = X_1^3$), which can lead to polynomial representation\n",
    "* numeric coding of the levels of qualitative inputs\n",
    "* interactions between variables ($X_3 = X_1\\cdot X_2$)\n"
   ]
  },
  {
   "cell_type": "markdown",
   "metadata": {},
   "source": [
    "The most popular form estimation method is _least squares_, in which we pck the coefficients $\\beta=(\\beta_0 , \\beta_1 , ... , \\beta_p)^T$ to minimize the RSS:\n",
    "\n",
    "\\begin{align}\n",
    "RSS(\\beta) &= \\sum\\limits_{i=1}^{N} (y_i - f(x_i))^2\\\\\n",
    "\\tag{2}\n",
    "&= \\sum\\limits_{i=1}^{N} (y_i - \\beta_0 - \\sum\\limits_{j=1}^{p} x_{ij}\\beta_j)^2\n",
    "\\end{align}\n",
    "\n",
    "\n",
    "* Reasonable if the training observations $(x_i, y_i)$ represent independent random draws from their population.\n",
    "    - If $x_i$'s are not drawn randomly, still ok if $y_i$'s are conditionally independent given the inputs $x_i$\n"
   ]
  },
  {
   "cell_type": "markdown",
   "metadata": {},
   "source": [
    "__How do we minimize eqn(2)?__\n",
    "Denote by $X$ the $N * (p + 1)$ matrix with each row an input vector, and let $y$ be the N-vector of outputs in the training set. Therfore, the RSS can be rewriten as:\n",
    "\n",
    "\\begin{equation}\n",
    "\\tag{3}\n",
    "RSS(\\beta) = (\\mathbf{y} - \\mathbf{X}\\beta)^T (\\mathbf{y}-\\mathbf{X}\\beta)\n",
    "\\end{equation}\n",
    "This is a quadratic function in the p + 1 parameters. \n",
    "\n",
    "Differentiating w/ respect to \\beta:\n",
    "\n",
    "\\begin{align}\n",
    "\\dfrac{\\partial RSS}{\\partial \\beta} &= -2\\mathbf{X}^T(\\mathbf{y}-\\mathbf{X}\\beta)\\\\\n",
    "\\dfrac{\\partial^2 RSS}{\\partial \\beta\\partial \\beta^T} &= -2\\mathbf{X}^T\\mathbf{X}\n",
    "\\end{align}\n",
    "\n",
    "Assuming $\\mathbf{X}$ has full column rank, $\\mathbf{X}^T\\mathbf{X}$ is pos definite, first derivative can be set to 0\n",
    "\n",
    "\\begin{equation}\n",
    "\\mathbf{X}^T(\\mathbf{y}-\\mathbf{X}\\beta) = 0\n",
    "\\end{equation}\n",
    "and the unique solution can be found:\n",
    "\\begin{equation}\n",
    "\\tag{4}\n",
    "\\hat{\\beta} = (\\mathbf{X}^T\\mathbf{X})^{-1}\\mathbf{X}^T\\mathbf{y}\n",
    "\\end{equation}"
   ]
  },
  {
   "cell_type": "markdown",
   "metadata": {},
   "source": [
    "The predicted values at an input vector $x_0$ are given by $\\hat{f}(x_0) = (1 : x_0)^T\\hat{\\beta}$; the fitted values at the training inputs are:\n",
    "\n",
    "\\begin{align}\n",
    "\\mathbf{\\hat{y}} &= \\mathbf{X} \\hat{\\beta}\\\\\n",
    "&= \\mathbf{X}(\\mathbf{X}^T\\mathbf{X})^{-1}\\mathbf{X}^T\\mathbf{y}\n",
    "\\end{align}\n",
    "\n",
    "* $\\mathbf{H} = \\mathbf{X} (\\mathbf{X}^T\\mathbf{X})^{-1}\\mathbf{X}^T$ == The \"hat matrix\"\n",
    "* The hat matrix $\\mathbf{H}$ also computes the _orthogonal projection_ ($\\hat{y}$), and is therefore also known as the _projection matrix_\n",
    "* The non-full-rank case occurs most often when one or more qualitative inputs are coded in a redundant fashion.\n",
    "* There is a way to resolve non-unique represention $\\rightarrow$ recoding and/or dropping redundant colums\n",
    "    - Most sotware packages automatically do this\n",
    "* Rank deficiencies can also occur in signal and image analysis\n",
    "    - number of inputs, $p$ can exceed the number of training cases, $N$\n",
    "    - To resolve this, features are reduced by filtering or by regularization"
   ]
  },
  {
   "cell_type": "markdown",
   "metadata": {},
   "source": [
    "Using eqn(4), and assuming $y_i$ are uncorrelated and have constant variance $\\sigma^2$ and $x_i$ are non-random, we van get the variance of $\\hat{\\beta}$:\n",
    "\n",
    "\\begin{equation}\n",
    "Var(\\hat{\\beta}) = (\\mathbf{X}^T\\mathbf{X})^{-1}\\sigma^2\n",
    "\\end{equation}\n",
    "Typically, estimation of $\\sigma^2$ is:\n",
    "\\begin{equation}\n",
    "\\sigma^2 = \\dfrac{1}{N - p - 1}\\sum\\limits_{i=1}^{N}(y_i-\\hat{y}_i)^2\n",
    "\\end{equation}\n",
    "\n",
    "_Note: We use $(N - p - 1)$ in denominator to make $\\hat{\\sigma}^2$ an unbiased estimate of $\\sigma^2$ : $E(\\hat{\\sigma}^2) = \\sigma^2$_"
   ]
  },
  {
   "cell_type": "markdown",
   "metadata": {},
   "source": [
    "To draw inferences about the parameters of the model, additional assumptions are needed:\n",
    "1. eqn(1) is the correct model for the mean\n",
    "2. Deviations of $Y$ around its expectation are additive and Gaussian:\n",
    "\n",
    "\\begin{align}\n",
    "Y &= E(Y|X_1, ... , X_p) + \\epsilon\\\\\n",
    "&= \\beta_0 + \\sum\\limits_{j=1}^{p}X_j\\beta_j + \\epsilon\n",
    "\\tag{5}\n",
    "\\end{align}\n",
    "\n",
    "Where error $\\epsilon$ is a Gaussian r.v. $\\epsilon \\sim N(0, \\sigma^2)$\n",
    "\n",
    "From eqn(5):\n",
    "\\begin{equation}\n",
    "\\tag{6}\n",
    "\\hat{\\beta} \\sim N(\\beta,(\\mathbf{X}^T\\mathbf{X})^{-1}\\sigma^2)\n",
    "\\end{equation}\n",
    "\n",
    "This is a __multivariate normal distribution__ with mean vector and variance covariance:\n",
    "\\begin{equation}\n",
    "(N-p-1)\\hat{\\sigma}^2 \\sim \\sigma^2\\chi^2_{N-p-1}\n",
    "\\end{equation}\n",
    "a chi-squared distribution with N-p-1 degrees of freedom. \\hat{\\beta} and \\hat{\\sigma}^2 are statistically independent.\n",
    "\n",
    "We use these distribution scores to __form tests and hypothesis and confidence intervals__ for the parameters $\\beta_j$\n",
    "To do this, form a standardized coefficient or _Z-score_\n",
    "\n",
    "\\begin{equation}\n",
    "z_j = \\dfrac{\\hat{\\beta}_j}{\\hat{\\sigma}\\sqrt{v_j}}\n",
    "\\end{equation}\n",
    "\n",
    "where $v_j$ is the _j_th diagonal element of $(\\mathbf{X}^T\\mathbf{X})^{-1}$\n",
    "\n",
    "For null hypothesis $H_0 : \\beta_j = 0$, $z_j$ is distributed as $t_{N-p-1}$ (a t-distribution with d.o.f. $N-p-1$)\n"
   ]
  },
  {
   "cell_type": "markdown",
   "metadata": {},
   "source": [
    "__sometimes we need to test for significance of groups of coefficients simultaneously__\n",
    "\n",
    "For this, we use the F-statstic:\n",
    "\\begin{equation}\n",
    "F = \\dfrac{(RSS_0-RSS_1)/(p_1-p_0)}{RSS_1/(N-p-1)}\n",
    "\\end{equation}\n",
    "\n",
    "where $RSS_1$ is the residual sum of squares for the least squares fit of the bigger model with $p_1 + 1$ params and $RSS_0$ is the nested smaller model with $p_0$ + 1 parameters, having $p_1-p_0$ parameters constrained to be zero.\n",
    "\n",
    "F statistic measures the change in residual sum-of-squares per aditional parameter in the bigger model, and it is normalized by an estimate of $\\sigma^2$\n",
    "\n",
    "Under Gaussian assumptions, and the null hypothesis that the smaller model is correct, the F statistic will have a $F_{p_1-p_0, N-p_1-1}$ distribution\n",
    "\n",
    "We can isolate $\\beta_j$ in eqn(6) to obtain a $1-2\\alpha$ CI for $\\beta_j$:\n",
    "\n",
    "\\begin{equation}\n",
    "(\\hat{\\beta_j}-z^{(1-\\alpha)}v_j^{\\dfrac{1}{2}}\\hat{\\sigma}, \\hat{\\beta_j}+z^{(1-\\alpha)}v_j^{\\dfrac{1}{2}}\\hat{\\sigma})\n",
    "\\end{equation}\n",
    "\n",
    "where $z^(1-\\alpha)$ is the $(1-\\alpha)$ percentile of the normal distribution:\n",
    "\n",
    "\\begin{align}\n",
    "z^{(1-.025)} &= 1.96\\\\\n",
    "z^{(1-.05)} &= 1.645, etc.\n",
    "\\end{align}\n",
    "\n",
    "For the confidence set for the entire parameter vector $\\beta$:\n",
    "\n",
    "\n",
    "\\begin{equation}\n",
    "C_{\\beta} = \\{\\beta|(\\hat{\\beta}-\\beta)^T\\mathbf{X}^T\\mathbf{X}(\\hat{\\beta}-\\beta)\\}\n",
    "\\end{equation}\n"
   ]
  },
  {
   "cell_type": "code",
   "execution_count": 4,
   "metadata": {},
   "outputs": [
    {
     "data": {
      "text/plain": [
       "{'data': array([[6.3200e-03, 1.8000e+01, 2.3100e+00, ..., 1.5300e+01, 3.9690e+02,\n",
       "         4.9800e+00],\n",
       "        [2.7310e-02, 0.0000e+00, 7.0700e+00, ..., 1.7800e+01, 3.9690e+02,\n",
       "         9.1400e+00],\n",
       "        [2.7290e-02, 0.0000e+00, 7.0700e+00, ..., 1.7800e+01, 3.9283e+02,\n",
       "         4.0300e+00],\n",
       "        ...,\n",
       "        [6.0760e-02, 0.0000e+00, 1.1930e+01, ..., 2.1000e+01, 3.9690e+02,\n",
       "         5.6400e+00],\n",
       "        [1.0959e-01, 0.0000e+00, 1.1930e+01, ..., 2.1000e+01, 3.9345e+02,\n",
       "         6.4800e+00],\n",
       "        [4.7410e-02, 0.0000e+00, 1.1930e+01, ..., 2.1000e+01, 3.9690e+02,\n",
       "         7.8800e+00]]),\n",
       " 'target': array([24. , 21.6, 34.7, 33.4, 36.2, 28.7, 22.9, 27.1, 16.5, 18.9, 15. ,\n",
       "        18.9, 21.7, 20.4, 18.2, 19.9, 23.1, 17.5, 20.2, 18.2, 13.6, 19.6,\n",
       "        15.2, 14.5, 15.6, 13.9, 16.6, 14.8, 18.4, 21. , 12.7, 14.5, 13.2,\n",
       "        13.1, 13.5, 18.9, 20. , 21. , 24.7, 30.8, 34.9, 26.6, 25.3, 24.7,\n",
       "        21.2, 19.3, 20. , 16.6, 14.4, 19.4, 19.7, 20.5, 25. , 23.4, 18.9,\n",
       "        35.4, 24.7, 31.6, 23.3, 19.6, 18.7, 16. , 22.2, 25. , 33. , 23.5,\n",
       "        19.4, 22. , 17.4, 20.9, 24.2, 21.7, 22.8, 23.4, 24.1, 21.4, 20. ,\n",
       "        20.8, 21.2, 20.3, 28. , 23.9, 24.8, 22.9, 23.9, 26.6, 22.5, 22.2,\n",
       "        23.6, 28.7, 22.6, 22. , 22.9, 25. , 20.6, 28.4, 21.4, 38.7, 43.8,\n",
       "        33.2, 27.5, 26.5, 18.6, 19.3, 20.1, 19.5, 19.5, 20.4, 19.8, 19.4,\n",
       "        21.7, 22.8, 18.8, 18.7, 18.5, 18.3, 21.2, 19.2, 20.4, 19.3, 22. ,\n",
       "        20.3, 20.5, 17.3, 18.8, 21.4, 15.7, 16.2, 18. , 14.3, 19.2, 19.6,\n",
       "        23. , 18.4, 15.6, 18.1, 17.4, 17.1, 13.3, 17.8, 14. , 14.4, 13.4,\n",
       "        15.6, 11.8, 13.8, 15.6, 14.6, 17.8, 15.4, 21.5, 19.6, 15.3, 19.4,\n",
       "        17. , 15.6, 13.1, 41.3, 24.3, 23.3, 27. , 50. , 50. , 50. , 22.7,\n",
       "        25. , 50. , 23.8, 23.8, 22.3, 17.4, 19.1, 23.1, 23.6, 22.6, 29.4,\n",
       "        23.2, 24.6, 29.9, 37.2, 39.8, 36.2, 37.9, 32.5, 26.4, 29.6, 50. ,\n",
       "        32. , 29.8, 34.9, 37. , 30.5, 36.4, 31.1, 29.1, 50. , 33.3, 30.3,\n",
       "        34.6, 34.9, 32.9, 24.1, 42.3, 48.5, 50. , 22.6, 24.4, 22.5, 24.4,\n",
       "        20. , 21.7, 19.3, 22.4, 28.1, 23.7, 25. , 23.3, 28.7, 21.5, 23. ,\n",
       "        26.7, 21.7, 27.5, 30.1, 44.8, 50. , 37.6, 31.6, 46.7, 31.5, 24.3,\n",
       "        31.7, 41.7, 48.3, 29. , 24. , 25.1, 31.5, 23.7, 23.3, 22. , 20.1,\n",
       "        22.2, 23.7, 17.6, 18.5, 24.3, 20.5, 24.5, 26.2, 24.4, 24.8, 29.6,\n",
       "        42.8, 21.9, 20.9, 44. , 50. , 36. , 30.1, 33.8, 43.1, 48.8, 31. ,\n",
       "        36.5, 22.8, 30.7, 50. , 43.5, 20.7, 21.1, 25.2, 24.4, 35.2, 32.4,\n",
       "        32. , 33.2, 33.1, 29.1, 35.1, 45.4, 35.4, 46. , 50. , 32.2, 22. ,\n",
       "        20.1, 23.2, 22.3, 24.8, 28.5, 37.3, 27.9, 23.9, 21.7, 28.6, 27.1,\n",
       "        20.3, 22.5, 29. , 24.8, 22. , 26.4, 33.1, 36.1, 28.4, 33.4, 28.2,\n",
       "        22.8, 20.3, 16.1, 22.1, 19.4, 21.6, 23.8, 16.2, 17.8, 19.8, 23.1,\n",
       "        21. , 23.8, 23.1, 20.4, 18.5, 25. , 24.6, 23. , 22.2, 19.3, 22.6,\n",
       "        19.8, 17.1, 19.4, 22.2, 20.7, 21.1, 19.5, 18.5, 20.6, 19. , 18.7,\n",
       "        32.7, 16.5, 23.9, 31.2, 17.5, 17.2, 23.1, 24.5, 26.6, 22.9, 24.1,\n",
       "        18.6, 30.1, 18.2, 20.6, 17.8, 21.7, 22.7, 22.6, 25. , 19.9, 20.8,\n",
       "        16.8, 21.9, 27.5, 21.9, 23.1, 50. , 50. , 50. , 50. , 50. , 13.8,\n",
       "        13.8, 15. , 13.9, 13.3, 13.1, 10.2, 10.4, 10.9, 11.3, 12.3,  8.8,\n",
       "         7.2, 10.5,  7.4, 10.2, 11.5, 15.1, 23.2,  9.7, 13.8, 12.7, 13.1,\n",
       "        12.5,  8.5,  5. ,  6.3,  5.6,  7.2, 12.1,  8.3,  8.5,  5. , 11.9,\n",
       "        27.9, 17.2, 27.5, 15. , 17.2, 17.9, 16.3,  7. ,  7.2,  7.5, 10.4,\n",
       "         8.8,  8.4, 16.7, 14.2, 20.8, 13.4, 11.7,  8.3, 10.2, 10.9, 11. ,\n",
       "         9.5, 14.5, 14.1, 16.1, 14.3, 11.7, 13.4,  9.6,  8.7,  8.4, 12.8,\n",
       "        10.5, 17.1, 18.4, 15.4, 10.8, 11.8, 14.9, 12.6, 14.1, 13. , 13.4,\n",
       "        15.2, 16.1, 17.8, 14.9, 14.1, 12.7, 13.5, 14.9, 20. , 16.4, 17.7,\n",
       "        19.5, 20.2, 21.4, 19.9, 19. , 19.1, 19.1, 20.1, 19.9, 19.6, 23.2,\n",
       "        29.8, 13.8, 13.3, 16.7, 12. , 14.6, 21.4, 23. , 23.7, 25. , 21.8,\n",
       "        20.6, 21.2, 19.1, 20.6, 15.2,  7. ,  8.1, 13.6, 20.1, 21.8, 24.5,\n",
       "        23.1, 19.7, 18.3, 21.2, 17.5, 16.8, 22.4, 20.6, 23.9, 22. , 11.9]),\n",
       " 'feature_names': array(['CRIM', 'ZN', 'INDUS', 'CHAS', 'NOX', 'RM', 'AGE', 'DIS', 'RAD',\n",
       "        'TAX', 'PTRATIO', 'B', 'LSTAT'], dtype='<U7'),\n",
       " 'DESCR': \".. _boston_dataset:\\n\\nBoston house prices dataset\\n---------------------------\\n\\n**Data Set Characteristics:**  \\n\\n    :Number of Instances: 506 \\n\\n    :Number of Attributes: 13 numeric/categorical predictive. Median Value (attribute 14) is usually the target.\\n\\n    :Attribute Information (in order):\\n        - CRIM     per capita crime rate by town\\n        - ZN       proportion of residential land zoned for lots over 25,000 sq.ft.\\n        - INDUS    proportion of non-retail business acres per town\\n        - CHAS     Charles River dummy variable (= 1 if tract bounds river; 0 otherwise)\\n        - NOX      nitric oxides concentration (parts per 10 million)\\n        - RM       average number of rooms per dwelling\\n        - AGE      proportion of owner-occupied units built prior to 1940\\n        - DIS      weighted distances to five Boston employment centres\\n        - RAD      index of accessibility to radial highways\\n        - TAX      full-value property-tax rate per $10,000\\n        - PTRATIO  pupil-teacher ratio by town\\n        - B        1000(Bk - 0.63)^2 where Bk is the proportion of blacks by town\\n        - LSTAT    % lower status of the population\\n        - MEDV     Median value of owner-occupied homes in $1000's\\n\\n    :Missing Attribute Values: None\\n\\n    :Creator: Harrison, D. and Rubinfeld, D.L.\\n\\nThis is a copy of UCI ML housing dataset.\\nhttps://archive.ics.uci.edu/ml/machine-learning-databases/housing/\\n\\n\\nThis dataset was taken from the StatLib library which is maintained at Carnegie Mellon University.\\n\\nThe Boston house-price data of Harrison, D. and Rubinfeld, D.L. 'Hedonic\\nprices and the demand for clean air', J. Environ. Economics & Management,\\nvol.5, 81-102, 1978.   Used in Belsley, Kuh & Welsch, 'Regression diagnostics\\n...', Wiley, 1980.   N.B. Various transformations are used in the table on\\npages 244-261 of the latter.\\n\\nThe Boston house-price data has been used in many machine learning papers that address regression\\nproblems.   \\n     \\n.. topic:: References\\n\\n   - Belsley, Kuh & Welsch, 'Regression diagnostics: Identifying Influential Data and Sources of Collinearity', Wiley, 1980. 244-261.\\n   - Quinlan,R. (1993). Combining Instance-Based and Model-Based Learning. In Proceedings on the Tenth International Conference of Machine Learning, 236-243, University of Massachusetts, Amherst. Morgan Kaufmann.\\n\",\n",
       " 'filename': 'C:\\\\ProgramData\\\\Miniconda3\\\\lib\\\\site-packages\\\\sklearn\\\\datasets\\\\data\\\\boston_house_prices.csv'}"
      ]
     },
     "execution_count": 4,
     "metadata": {},
     "output_type": "execute_result"
    }
   ],
   "source": [
    "datasets.load_boston()"
   ]
  },
  {
   "cell_type": "code",
   "execution_count": null,
   "metadata": {},
   "outputs": [],
   "source": []
  }
 ],
 "metadata": {
  "kernelspec": {
   "display_name": "Python 3",
   "language": "python",
   "name": "python3"
  },
  "language_info": {
   "codemirror_mode": {
    "name": "ipython",
    "version": 3
   },
   "file_extension": ".py",
   "mimetype": "text/x-python",
   "name": "python",
   "nbconvert_exporter": "python",
   "pygments_lexer": "ipython3",
   "version": "3.7.6"
  }
 },
 "nbformat": 4,
 "nbformat_minor": 4
}
