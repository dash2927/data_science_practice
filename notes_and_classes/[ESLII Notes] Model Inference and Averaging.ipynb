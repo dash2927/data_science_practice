{
 "cells": [
  {
   "cell_type": "markdown",
   "metadata": {},
   "source": [
    "---\n",
    "## <span style=\"color:cornflowerblue\">The Bootstrap and Maximum Likelihood Methods</span>\n",
    "---"
   ]
  },
  {
   "cell_type": "markdown",
   "metadata": {},
   "source": [
    "<span style=\"color:cornflowerblue\">_Python Libraries Used in these Notes_</span>"
   ]
  },
  {
   "cell_type": "code",
   "execution_count": null,
   "metadata": {},
   "outputs": [],
   "source": [
    "import numpy as np\n",
    "import pandas as pd\n",
    "import math\n",
    "import seaborn as sns\n",
    "import matplotlib.pyplot as plt\n"
   ]
  },
  {
   "cell_type": "markdown",
   "metadata": {},
   "source": [
    "### <span style=\"color:cornflowerblue\">A Smoothing Example</span>\n",
    "\n",
    "\n",
    "The boostrap method provides a direct computational way of assesing uncertainty, by sampling from training data. Here, we illustrate the boostrap method in a simple one-dimensional smoothiing problem, and show its connection to maximum likelihood.\n",
    "\n",
    "For training data $\\mathbf{Z} = \\{z_1, z_2, ... , z_N\\}$ with $z_1 = (x_i, y_i), i=1,2, ... , N$. \n",
    "\n",
    "Suppose we decide to fit a cubic spline to the data, with three knots at the quartiles of the X-values. This is a seven dimensional linear space of B-splines basis functions.\n",
    "\n",
    "\\begin{equation}\n",
    "\\tag{1}\n",
    "\\mu(x) = \\sum\\limits_{j=1}^7\\beta_jh_j(x)\n",
    "\\end{equation}"
   ]
  },
  {
   "cell_type": "code",
   "execution_count": null,
   "metadata": {},
   "outputs": [],
   "source": []
  }
 ],
 "metadata": {
  "kernelspec": {
   "display_name": "Python 3",
   "language": "python",
   "name": "python3"
  },
  "language_info": {
   "codemirror_mode": {
    "name": "ipython",
    "version": 3
   },
   "file_extension": ".py",
   "mimetype": "text/x-python",
   "name": "python",
   "nbconvert_exporter": "python",
   "pygments_lexer": "ipython3",
   "version": "3.7.9"
  }
 },
 "nbformat": 4,
 "nbformat_minor": 4
}
